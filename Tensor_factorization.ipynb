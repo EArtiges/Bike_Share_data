{
 "cells": [
  {
   "cell_type": "markdown",
   "id": "911227ba-8d53-4e7a-9a97-0568a3f16669",
   "metadata": {},
   "source": [
    "# Tensor factorization\n",
    "\n",
    "With help from:\n",
    "\n",
    "https://medium.com/yadb/tensor-factorization-for-graph-analysis-in-python-590df44c9f6c"
   ]
  },
  {
   "cell_type": "code",
   "execution_count": 1,
   "id": "a0678311-8ed4-4578-874c-653f92ea7be7",
   "metadata": {},
   "outputs": [],
   "source": [
    "import tensorly as tl\n",
    "import pandas as pd\n",
    "import numpy as np\n",
    "import matplotlib.pyplot as plt\n",
    "\n",
    "plt.style.use('dark_background')"
   ]
  },
  {
   "cell_type": "code",
   "execution_count": 2,
   "id": "862a6967-127b-40b2-8eb7-a735764d0bf1",
   "metadata": {},
   "outputs": [],
   "source": [
    "# Open bike trips data\n",
    "df_bike_trips = pd.read_csv(\"Edinburgh/bike_trips/df_bike_trips.csv\")\n",
    "df_bike_trips.started_at = pd.to_datetime(df_bike_trips.started_at)\n",
    "df_bike_trips.ended_at = pd.to_datetime(df_bike_trips.ended_at)\n",
    "df_bike_trips['trip_duration'] = (df_bike_trips.ended_at-df_bike_trips.started_at).apply(lambda x : x.seconds/60)"
   ]
  },
  {
   "cell_type": "code",
   "execution_count": 3,
   "id": "b59be933-cbb1-410c-9fed-bc95da73a319",
   "metadata": {},
   "outputs": [],
   "source": [
    "import geopandas as gpd\n",
    "from shapely.geometry import Point\n",
    "\n",
    "# Extract the bike stations in it\n",
    "\n",
    "def get_all_stations(df):\n",
    "    df_start_stations = df[['start_station_id','start_station_name', 'start_station_latitude', 'start_station_longitude']]\n",
    "    df_end_stations = df[['end_station_id','end_station_name','end_station_latitude','end_station_longitude']]\n",
    "    df_start_stations.columns = ['station_id', 'station_name', 'station_lat', 'station_lon']\n",
    "    df_end_stations.columns = ['station_id', 'station_name', 'station_lat', 'station_lon']\n",
    "    return df_start_stations.append(df_end_stations).drop_duplicates().set_index('station_id')\n",
    "\n",
    "df_stations = get_all_stations(df_bike_trips)\n",
    "df_stations.to_csv('df_stations.csv')\n",
    "df_stations['geometry'] = df_stations[['station_lat','station_lon']].apply(lambda x : Point(*x), axis=1)\n",
    "df_stations=gpd.GeoDataFrame(df_stations)"
   ]
  },
  {
   "cell_type": "code",
   "execution_count": 4,
   "id": "3e02f5a2-a6ea-4b93-839c-bac788da673a",
   "metadata": {},
   "outputs": [],
   "source": [
    "from pyproj import CRS\n",
    "\n",
    "df_stations.crs = CRS.from_epsg(4326)"
   ]
  },
  {
   "cell_type": "code",
   "execution_count": 5,
   "id": "1b210824-e156-4cd8-a4d1-520825f25c02",
   "metadata": {},
   "outputs": [],
   "source": [
    "df_trips = df_bike_trips[['started_at', 'ended_at', 'trip_duration', 'start_station_id', 'end_station_id']].copy()"
   ]
  },
  {
   "cell_type": "code",
   "execution_count": 6,
   "id": "28df3031-38aa-451f-8154-f45286a916b4",
   "metadata": {},
   "outputs": [
    {
     "data": {
      "text/plain": [
       "<matplotlib.lines.Line2D at 0x258c4718dc8>"
      ]
     },
     "execution_count": 6,
     "metadata": {},
     "output_type": "execute_result"
    },
    {
     "data": {
      "image/png": "[encoded data removed]",
      "text/plain": [
       "<Figure size 1152x288 with 1 Axes>"
      ]
     },
     "metadata": {},
     "output_type": "display_data"
    }
   ],
   "source": [
    "df_trips.trip_duration.hist(bins=100, figsize=(16,4))\n",
    "plt.axvline(30, color='brown', ls='--')\n",
    "plt.axvline(60, color='brown', ls='--')\n",
    "plt.axvline(90, color='brown', ls='--')\n",
    "plt.axvline(120, color='brown', ls='--')"
   ]
  },
  {
   "cell_type": "code",
   "execution_count": 7,
   "id": "da35b002-4306-4e2c-bcf9-3d0ba8334b20",
   "metadata": {},
   "outputs": [
    {
     "data": {
      "text/plain": [
       "count    436420.000000\n",
       "mean         31.906282\n",
       "std          40.986529\n",
       "min           1.016667\n",
       "25%          10.400000\n",
       "50%          19.383333\n",
       "75%          42.133333\n",
       "max        1423.883333\n",
       "Name: trip_duration, dtype: float64"
      ]
     },
     "execution_count": 7,
     "metadata": {},
     "output_type": "execute_result"
    }
   ],
   "source": [
    "df_trips.trip_duration.describe()"
   ]
  },
  {
   "cell_type": "code",
   "execution_count": 8,
   "id": "64144ae2-0892-41a8-a532-5e0c79d5b20f",
   "metadata": {},
   "outputs": [
    {
     "data": {
      "text/plain": [
       "count    371577.000000\n",
       "mean         28.017167\n",
       "std          36.709375\n",
       "min           1.016667\n",
       "25%           9.966667\n",
       "50%          17.300000\n",
       "75%          35.433333\n",
       "max        1423.883333\n",
       "Name: trip_duration, dtype: float64"
      ]
     },
     "execution_count": 8,
     "metadata": {},
     "output_type": "execute_result"
    }
   ],
   "source": [
    "# Interesting how removing self loops greatly reduces the average length of trip;\n",
    "# Most self-loops seem to correspond to longer rides. IN which stations do they occur most often?\n",
    "# We have to get rid of them because we can't map them, we have no info on the route that people took for their loop. \n",
    "df_trips = df_trips[df_trips.start_station_id!=df_trips.end_station_id]\n",
    "df_trips.trip_duration.describe()"
   ]
  },
  {
   "cell_type": "code",
   "execution_count": 9,
   "id": "dfcf8fd4-e87c-43f1-b971-14c2f3ce2468",
   "metadata": {},
   "outputs": [],
   "source": [
    "# Some stations are only in there as end stations, and some only as start stations.\n",
    "# Statistically it's weird, but also it messes up with data alignment; better get rid of them altogether\n",
    "# (there's only 3 of them)\n",
    "\n",
    "end_stations = df_trips.end_station_id.unique()\n",
    "df_trips= df_trips[df_trips.start_station_id.isin(end_stations)]\n",
    "\n",
    "start_stations = df_trips.start_station_id.unique()\n",
    "df_trips = df_trips[df_trips.end_station_id.isin(start_stations)]\n",
    "\n",
    "station_to_ix = {j:i for i,j in enumerate(sorted(df_trips.start_station_id.unique()))}\n",
    "ix_to_station = {j:i for i,j in station_to_ix.items()}\n",
    "\n",
    "df_trips[['start_station_id', 'end_station_id']] = df_trips[['start_station_id', 'end_station_id']].applymap(lambda x : station_to_ix[x])\n",
    "df_trips['started_floor'] = df_trips.started_at.apply(lambda x:x.floor('15min'))\n",
    "df_trips['ended_floor'] = df_trips.ended_at.apply(lambda x:x.floor('15min'))\n",
    "\n",
    "df_trips['weekday'] = df_trips.started_at.apply(lambda x:x.weekday)\n",
    "df_trips['hour'] = df_trips.started_at.apply(lambda x:x.hour)\n",
    "df_trips['trip']=1"
   ]
  },
  {
   "cell_type": "markdown",
   "id": "34c1d930-ae6a-4014-bcf6-dd18c65e0066",
   "metadata": {},
   "source": [
    "### Let's try a factorization per hour of the day, to start. "
   ]
  },
  {
   "cell_type": "code",
   "execution_count": 10,
   "id": "5013424f-314f-4a3e-95f0-32defa01058d",
   "metadata": {},
   "outputs": [],
   "source": [
    "def get_tensor_old(df):\n",
    "    \"\"\"\n",
    "    Old inefficient way of filling the tensor\n",
    "    \"\"\"\n",
    "    T = np.zeros((len(df.start_station_id.unique()), len(df.end_station_id.unique()), 24), dtype=float)\n",
    "\n",
    "    for row in df[['hour', 'start_station_id', 'end_station_id']].iterrows():\n",
    "        T[row[1]['start_station_id'],row[1]['end_station_id'],row[1]['hour']]+=1\n",
    "    \n",
    "    return T\n",
    "\n",
    "def get_tensor(df_trips):\n",
    "    T = np.zeros((len(df_trips.start_station_id.unique()), len(df_trips.end_station_id.unique()), 24), dtype=float)\n",
    "\n",
    "    n_trips = df_trips.groupby(['start_station_id', 'end_station_id', 'hour']).trip.sum()\n",
    "\n",
    "    for t in n_trips.items():\n",
    "        ix = t[0]\n",
    "        val = t[1]\n",
    "        T[ix]=val\n",
    "\n",
    "    return T\n",
    "\n",
    "def factorization(T, R):\n",
    "\n",
    "    F=NNP(tensor=T, rank=R, verbose=0)\n",
    "    weights=F[0]\n",
    "    factors=F[1]\n",
    "    Us,Vs,Xs = factors\n",
    "    \n",
    "    return Us,Vs,Xs"
   ]
  },
  {
   "cell_type": "code",
   "execution_count": 11,
   "id": "9075f129-f20d-49cc-827e-cbcf48be61de",
   "metadata": {},
   "outputs": [],
   "source": [
    "T=get_tensor(df_trips)"
   ]
  },
  {
   "cell_type": "code",
   "execution_count": 12,
   "id": "09941886-de27-4560-9885-74cbe4e5a8bb",
   "metadata": {},
   "outputs": [
    {
     "data": {
      "image/png": "[encoded data removed]",
      "text/plain": [
       "<Figure size 864x288 with 4 Axes>"
      ]
     },
     "metadata": {
      "needs_background": "dark"
     },
     "output_type": "display_data"
    }
   ],
   "source": [
    "from tensorly.decomposition import non_negative_parafac as NNP\n",
    "\n",
    "R=4\n",
    "\n",
    "est_T=NNP(tensor=T, rank=R, verbose=0)\n",
    "\n",
    "weights=est_T[0]\n",
    "factors=est_T[1]\n",
    "\n",
    "Us,Vs,Xs = factors\n",
    "\n",
    "fig, axes = plt.subplots(2,2, figsize=(12,4))\n",
    "fig.patch.set_alpha(0)\n",
    "axes=axes.flatten()\n",
    "\n",
    "for i in range(R):\n",
    "\n",
    "    starts = Us[:, i]\n",
    "    ends = Vs[:, i]\n",
    "    t_intensity = Xs[:, i]\n",
    "\n",
    "    axes[i].plot(t_intensity)\n",
    "\n",
    "plt.show()"
   ]
  },
  {
   "cell_type": "markdown",
   "id": "be761e25-c7ba-4d44-a8d6-a8f81ae1f1b8",
   "metadata": {},
   "source": [
    "### Let's try the core consistency .\n",
    "\n",
    "C is a negative sum of the reconstruction error. <br>\n",
    "It is $~ (1 - \\frac{\\sum \\epsilon }{n}$, with $\\epsilon$ the reconstruction error (Identity matrix - actual superdiag matrix needed to rebuild T from the factors) : Higher reconstruction error means high |CC| in the negative: we want to maximize both k and CC !"
   ]
  },
  {
   "cell_type": "code",
   "execution_count": 18,
   "id": "31a2befd-d875-4443-8c5c-413c8e76807a",
   "metadata": {},
   "outputs": [
    {
     "data": {
      "text/plain": [
       "<module 'corcondia' from 'D:\\\\Science\\\\data_science\\\\Bike_Share_data\\\\corcondia.py'>"
      ]
     },
     "execution_count": 18,
     "metadata": {},
     "output_type": "execute_result"
    }
   ],
   "source": [
    "import gc\n",
    "from sktensor import dtensor, cp_als\n",
    "import imp\n",
    "import corcondia\n",
    "imp.reload(corcondia)"
   ]
  },
  {
   "cell_type": "code",
   "execution_count": 19,
   "id": "dd9822dc-59a5-4be4-8670-abbab8fa4bc2",
   "metadata": {},
   "outputs": [],
   "source": [
    "def get_CC(T, R, debug=False):\n",
    "    \n",
    "    Us, Vs, Xs = factorization(T, R)\n",
    "    \n",
    "    est_T = np.zeros(T.shape)\n",
    "    for u,v,x in zip(Us.T, Vs.T, Xs.T):\n",
    "        est_T+=np.outer(np.outer(u, v), x).reshape(est_T.shape)\n",
    "    \n",
    "    \n",
    "    CC=corcondia.corcondia_2(dtensor(est_T), Us,Vs,Xs, components = R)\n",
    "    \n",
    "    del est_T, Us, Vs, Xs\n",
    "    gc.collect()\n",
    "    \n",
    "    if debug: print(R, CC, pd.Timestamp.now())\n",
    "    return CC"
   ]
  },
  {
   "cell_type": "code",
   "execution_count": 20,
   "id": "05aa0255-c54e-41f6-9f62-ef2cfc2cad3e",
   "metadata": {},
   "outputs": [],
   "source": [
    "mean_CC = lambda x, y=False : np.mean([get_CC(T, R=x, debug=y) for i in range(2)])"
   ]
  },
  {
   "cell_type": "code",
   "execution_count": 21,
   "id": "2e1a8771-0943-4049-b9d8-52c40d8e9693",
   "metadata": {},
   "outputs": [
    {
     "name": "stdout",
     "output_type": "stream",
     "text": [
      "1 100 2021-06-26 18:58:27.960770\n",
      "1 100 2021-06-26 18:58:28.086616\n",
      "4 100 2021-06-26 18:58:31.066049\n",
      "4 100 2021-06-26 18:58:33.835047\n",
      "7 100 2021-06-26 18:58:38.462524\n",
      "7 100 2021-06-26 18:58:43.131210\n",
      "10 100 2021-06-26 18:58:49.701801\n",
      "10 100 2021-06-26 18:58:56.280988\n"
     ]
    },
    {
     "data": {
      "image/png": "[encoded data removed]",
      "text/plain": [
       "<Figure size 576x288 with 1 Axes>"
      ]
     },
     "metadata": {
      "needs_background": "dark"
     },
     "output_type": "display_data"
    }
   ],
   "source": [
    "fig = plt.figure(figsize=(8,4))\n",
    "fig.patch.set_alpha(0)\n",
    "x_range = range(1, 13, 3)\n",
    "plt.plot(x_range, [mean_CC(R, True) for R in x_range], marker='o')\n",
    "plt.show()"
   ]
  },
  {
   "cell_type": "code",
   "execution_count": 32,
   "id": "0b2af7b1-a3aa-4482-80f8-6f39baac2886",
   "metadata": {},
   "outputs": [],
   "source": [
    "mean_CC = lambda x, y=False : np.mean([get_CC(T, R=x, debug=y) for i in range(1)])"
   ]
  },
  {
   "cell_type": "code",
   "execution_count": 34,
   "id": "41cd87e8-3048-4d48-841b-cc78f6165b52",
   "metadata": {
    "tags": []
   },
   "outputs": [
    {
     "name": "stdout",
     "output_type": "stream",
     "text": [
      "20 100 2021-06-26 19:18:59.758386\n",
      "22 100 2021-06-26 19:19:14.310884\n",
      "24 100 2021-06-26 19:19:29.826153\n",
      "26 92 2021-06-26 19:22:11.824314\n",
      "28 86 2021-06-26 19:23:24.724055\n",
      "30 80 2021-06-26 19:24:39.989874\n",
      "32 75 2021-06-26 19:26:00.634009\n",
      "34 71 2021-06-26 19:27:18.538365\n"
     ]
    },
    {
     "data": {
      "image/png": "[encoded data removed]",
      "text/plain": [
       "<Figure size 576x288 with 1 Axes>"
      ]
     },
     "metadata": {
      "needs_background": "dark"
     },
     "output_type": "display_data"
    }
   ],
   "source": [
    "fig = plt.figure(figsize=(8,4))\n",
    "fig.patch.set_alpha(0)\n",
    "x_range = range(20, 35, 2)\n",
    "plt.plot(x_range, [mean_CC(R, True) for R in x_range], marker='o')\n",
    "plt.show()"
   ]
  },
  {
   "cell_type": "markdown",
   "id": "24061316-8d14-40d0-9140-cceec8c84dd2",
   "metadata": {},
   "source": [
    "# Map a parallel factor back to the bike stations"
   ]
  },
  {
   "cell_type": "code",
   "execution_count": 36,
   "id": "ab4c985e-80dc-4a01-9bc5-3480dc05a17b",
   "metadata": {
    "collapsed": true,
    "jupyter": {
     "outputs_hidden": true
    },
    "tags": []
   },
   "outputs": [
    {
     "data": {
      "text/plain": [
       "array([1.87948453e+002, 1.17607379e+002, 1.20441049e+002, 3.54383816e+001,\n",
       "       6.40251571e+001, 8.76969179e+001, 3.16579435e+002, 1.55501781e+002,\n",
       "       1.28147287e+001, 6.91433215e+000, 7.52346537e+001, 1.82311522e+002,\n",
       "       1.72439868e+002, 1.40673722e+001, 4.40784336e+001, 2.59074210e+001,\n",
       "       7.94973372e+000, 9.13062726e+001, 1.87178721e+002, 4.72631012e+000,\n",
       "       1.12015457e-008, 8.27465151e+001, 2.30936549e+002, 2.20173143e-002,\n",
       "       1.45603585e-007, 1.85073408e-001, 2.01478940e+001, 2.11539787e-003,\n",
       "       1.81381125e-001, 3.57997366e+000, 1.28327248e+002, 6.88845262e+001,\n",
       "       9.55650831e+001, 6.31183183e-002, 6.81676300e-002, 3.33197040e+001,\n",
       "       2.03531218e+001, 4.89041494e+000, 3.37673486e+000, 1.57396841e+001,\n",
       "       2.25738237e+001, 1.04497631e+001, 1.54009053e+001, 1.07742885e+001,\n",
       "       2.98989181e+000, 3.35098563e+000, 2.74356148e+001, 1.21165771e+000,\n",
       "       8.09998064e-013, 2.45860222e+000, 2.08886094e+000, 3.74037338e+000,\n",
       "       1.21954072e+000, 6.53704783e+000, 3.20207787e-002, 2.61528456e+000,\n",
       "       1.45707457e+000, 1.23403657e+000, 1.88025802e+000, 7.98508097e-005,\n",
       "       6.18085412e-004, 5.70996284e-010, 5.52859185e-001, 5.60797847e-001,\n",
       "       8.23504480e-007, 2.68378549e-001, 7.94987103e-001, 3.21727436e+000,\n",
       "       5.58123854e-006, 4.04023938e-001, 2.78324477e+000, 8.60566217e-001,\n",
       "       2.22077430e-005, 1.25681160e+000, 1.49077802e+000, 3.08034508e-001,\n",
       "       7.91911595e+000, 8.88693713e-002, 2.74775077e+001, 9.03090234e+000,\n",
       "       1.88749216e-001, 2.47971136e+000, 2.45751514e+000, 2.25958640e+000,\n",
       "       5.47957855e+000, 1.95762666e+000, 7.50802924e+000, 3.15959530e-001,\n",
       "       7.90898304e-002, 1.82774885e-001, 9.24684401e-001, 1.39331387e-002,\n",
       "       1.72032958e-023, 3.64239567e-112, 9.95558574e-005, 8.85566568e+001,\n",
       "       1.62056602e+000, 5.10832522e+001, 2.85395925e+002, 1.18722323e+002,\n",
       "       2.88396082e+000, 8.66646814e+000, 5.95732280e+001, 1.44886438e+000,\n",
       "       7.95899937e-002, 1.22614277e-002, 6.21293917e-001, 1.56214827e+000,\n",
       "       1.28949529e+002, 4.91102222e-001, 7.41510233e-001, 5.16587514e+001,\n",
       "       5.88622035e+001, 7.54454685e+001, 6.88314885e+001, 1.50181234e+001,\n",
       "       2.91232782e-004, 4.31496358e-006, 1.56220127e+001, 5.27503829e+001,\n",
       "       5.96606438e+001, 1.16874508e+001, 1.32767686e-001, 6.90842208e-004,\n",
       "       1.11141901e+002, 3.83318578e+001, 6.90495059e+001, 4.08368625e+001,\n",
       "       1.47332459e-001, 1.50246637e+002, 7.21020497e-004, 1.27562883e+000,\n",
       "       2.18878359e-001, 1.07797427e+001, 3.63096581e+001, 4.98278137e+001,\n",
       "       1.03708652e+002, 5.40631160e+000, 8.37101522e+000, 5.00918390e+001,\n",
       "       3.33785548e+000, 1.29642978e+001, 2.70321604e+001, 1.79125910e-002,\n",
       "       1.04400580e+000, 6.57256715e+001, 1.08890707e+000, 9.35849790e+000,\n",
       "       5.26028277e+001, 8.24086852e+000, 1.15965244e+001, 6.24358837e+000,\n",
       "       9.11752125e+000, 1.14628848e+001, 4.54391489e+001, 1.06628502e-006,\n",
       "       1.46371358e+001, 6.04143099e+000, 2.12196135e+001, 1.30362685e+001,\n",
       "       2.04685840e+002, 4.00493180e+001, 1.81156116e+001, 5.10947612e+000,\n",
       "       4.36224096e+001, 5.12020969e+000, 1.65410751e+001, 2.08904375e-007,\n",
       "       3.61983989e+001, 8.74134616e+000, 9.90026091e+000, 3.83551152e+001,\n",
       "       4.73611181e+000, 4.44299617e+001, 1.39484857e+001, 6.65772963e+000,\n",
       "       3.04345405e+001, 8.33945851e+000, 9.62788193e+001, 2.01991645e-002,\n",
       "       1.24864417e+000, 7.93636370e-001, 9.40155313e-004, 4.29598714e-016,\n",
       "       4.47016250e-003, 3.99726852e-002, 5.53139151e-002, 1.58265095e-001,\n",
       "       3.25955670e-013, 3.54359292e-012, 1.25761839e-029, 8.01843379e-001,\n",
       "       1.53144626e+000, 2.03242291e-001, 1.68941138e+001])"
      ]
     },
     "execution_count": 36,
     "metadata": {},
     "output_type": "execute_result"
    }
   ],
   "source": [
    "Us[:, 0]"
   ]
  },
  {
   "cell_type": "code",
   "execution_count": null,
   "id": "99fe2e86-085e-4738-9dd8-5815e127f4cf",
   "metadata": {},
   "outputs": [],
   "source": [
    "R=24\n",
    "\n",
    "T = get_tensor(df_trips)\n",
    "Us,Vs,Xs = factorization(T, R)\n"
   ]
  },
  {
   "cell_type": "code",
   "execution_count": 54,
   "id": "a1ac0bbc-c1d3-4517-9ed1-d8aced87e95b",
   "metadata": {
    "tags": []
   },
   "outputs": [
    {
     "name": "stdout",
     "output_type": "stream",
     "text": [
      "0 th factor stored ! 2021-06-26 19:39:04.443218\n",
      "1 th factor stored ! 2021-06-26 19:39:04.690584\n",
      "2 th factor stored ! 2021-06-26 19:39:04.913235\n",
      "3 th factor stored ! 2021-06-26 19:39:05.192023\n",
      "4 th factor stored ! 2021-06-26 19:39:05.414304\n",
      "5 th factor stored ! 2021-06-26 19:39:05.661822\n",
      "6 th factor stored ! 2021-06-26 19:39:05.878059\n",
      "7 th factor stored ! 2021-06-26 19:39:06.109921\n",
      "8 th factor stored ! 2021-06-26 19:39:06.348372\n",
      "9 th factor stored ! 2021-06-26 19:39:06.564540\n",
      "10 th factor stored ! 2021-06-26 19:39:06.818721\n",
      "11 th factor stored ! 2021-06-26 19:39:07.066193\n",
      "12 th factor stored ! 2021-06-26 19:39:07.282317\n",
      "13 th factor stored ! 2021-06-26 19:39:07.520675\n",
      "14 th factor stored ! 2021-06-26 19:39:07.799373\n",
      "15 th factor stored ! 2021-06-26 19:39:08.037845\n",
      "16 th factor stored ! 2021-06-26 19:39:08.623495\n",
      "17 th factor stored ! 2021-06-26 19:39:08.886624\n",
      "18 th factor stored ! 2021-06-26 19:39:09.203280\n",
      "19 th factor stored ! 2021-06-26 19:39:09.472629\n",
      "20 th factor stored ! 2021-06-26 19:39:09.704495\n",
      "21 th factor stored ! 2021-06-26 19:39:09.942840\n",
      "22 th factor stored ! 2021-06-26 19:39:10.174741\n",
      "23 th factor stored ! 2021-06-26 19:39:10.406484\n"
     ]
    }
   ],
   "source": [
    "for nth_factor in range(R):\n",
    "\n",
    "    factor_trips = pd.DataFrame(columns=['start', 'end', 'intensity'], index=range(len(Us[:, nth_factor])**2))\n",
    "    factor = np.outer(Us[:, nth_factor], Vs[:, nth_factor])\n",
    "    factor_trips.intensity = factor.flatten()\n",
    "    factor_trips.start = factor_trips.index//len(Us[:, 0])\n",
    "    factor_trips.end = factor_trips.index%len(Us[:, 0])\n",
    "    \n",
    "    factor_trips['start_station_id'] = factor_trips.start.apply(lambda x : ix_to_station[x])\n",
    "    factor_trips['end_station_id'] = factor_trips.end.apply(lambda x : ix_to_station[x])\n",
    "\n",
    "    factor_trips.to_csv(f'Factors/factor_trips_{nth_factor}.csv')\n",
    "    \n",
    "    pd.DataFrame(Xs[:, nth_factor], columns = ['H_intensity']).to_csv(f'Factors/Factor_temporality_{nth_factor}.csv')\n",
    "    print(nth_factor, 'th factor stored !', pd.Timestamp.now())"
   ]
  },
  {
   "cell_type": "markdown",
   "id": "2eee9cd9-ef48-48af-ae7e-913dbbca2144",
   "metadata": {},
   "source": [
    "further ideas:\n",
    "- week vs weekend\n",
    "- weekdays\n",
    "- absolute bicycle flow vs differential bicycle flow "
   ]
  }
 ],
 "metadata": {
  "kernelspec": {
   "display_name": "Python 3",
   "language": "python",
   "name": "python3"
  },
  "language_info": {
   "codemirror_mode": {
    "name": "ipython",
    "version": 3
   },
   "file_extension": ".py",
   "mimetype": "text/x-python",
   "name": "python",
   "nbconvert_exporter": "python",
   "pygments_lexer": "ipython3",
   "version": "3.7.10"
  }
 },
 "nbformat": 4,
 "nbformat_minor": 5
}
