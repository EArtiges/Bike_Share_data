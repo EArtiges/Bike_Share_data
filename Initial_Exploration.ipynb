{
 "cells": [
  {
   "cell_type": "code",
   "execution_count": 13,
   "id": "7cf3cf3f-7b2c-4824-baae-6bdebf30e6a8",
   "metadata": {},
   "outputs": [
    {
     "data": {
      "text/plain": [
       "['.git',\n",
       " '.ipynb_checkpoints',\n",
       " 'Edinburgh',\n",
       " 'Initial_Exploration.ipynb',\n",
       " 'README.md']"
      ]
     },
     "execution_count": 13,
     "metadata": {},
     "output_type": "execute_result"
    }
   ],
   "source": [
    "import pandas as pd\n",
    "import geopandas\n",
    "import os\n",
    "\n",
    "os.listdir(\".\")"
   ]
  },
  {
   "cell_type": "code",
   "execution_count": 6,
   "id": "79ce8687-0ed4-44b9-8e10-8cee2e2a6e0e",
   "metadata": {},
   "outputs": [],
   "source": [
    "df = pd.read_csv(\"Edinburgh/04.csv\")"
   ]
  },
  {
   "cell_type": "code",
   "execution_count": 39,
   "id": "94acfd43-fc18-4838-a730-c682930d41e5",
   "metadata": {},
   "outputs": [],
   "source": [
    "# Get Edinburgh's shapefile from: http://download.geofabrik.de/europe/great-britain/scotland.html\n",
    "# pdf manual of the file: http://download.geofabrik.de/osm-data-in-gis-formats-free.pdf"
   ]
  },
  {
   "cell_type": "code",
   "execution_count": null,
   "id": "a219210d-834c-4c61-98f0-b8616301d6c1",
   "metadata": {},
   "outputs": [],
   "source": []
  }
 ],
 "metadata": {
  "kernelspec": {
   "display_name": "Python 3",
   "language": "python",
   "name": "python3"
  },
  "language_info": {
   "codemirror_mode": {
    "name": "ipython",
    "version": 3
   },
   "file_extension": ".py",
   "mimetype": "text/x-python",
   "name": "python",
   "nbconvert_exporter": "python",
   "pygments_lexer": "ipython3",
   "version": "3.9.4"
  }
 },
 "nbformat": 4,
 "nbformat_minor": 5
}
