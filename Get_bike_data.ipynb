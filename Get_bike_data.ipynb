{
 "cells": [
  {
   "cell_type": "code",
   "execution_count": 14,
   "id": "aab2be53-d422-4c2d-b6c1-bde0e769906f",
   "metadata": {},
   "outputs": [],
   "source": [
    "import pandas as pd\n",
    "import time\n",
    "from urllib.error import HTTPError"
   ]
  },
  {
   "cell_type": "code",
   "execution_count": null,
   "id": "4cb902cf-5cd4-478f-982b-b5a6b9383492",
   "metadata": {},
   "outputs": [],
   "source": [
    "df_bikes = pd.DataFrame()"
   ]
  },
  {
   "cell_type": "code",
   "execution_count": 26,
   "id": "070a2fc1-11cd-46a5-9657-0f23aec579f4",
   "metadata": {
    "tags": []
   },
   "outputs": [
    {
     "name": "stdout",
     "output_type": "stream",
     "text": [
      "https://data.urbansharing.com/edinburghcyclehire.com/trips/v1/2018/12.csv\n",
      "https://data.urbansharing.com/edinburghcyclehire.com/trips/v1/2019/12.csv\n",
      "https://data.urbansharing.com/edinburghcyclehire.com/trips/v1/2020/12.csv\n",
      "https://data.urbansharing.com/edinburghcyclehire.com/trips/v1/2021/12.csv\n"
     ]
    }
   ],
   "source": [
    "for y in range(2018, 2022):\n",
    "    for m in range(1,13):\n",
    "        m = str(m)\n",
    "        # If m is 1, the URL will be at YYYY/01 so we need to convert it\n",
    "        if len(m)==1: m = '0'+m\n",
    "            \n",
    "        # Follow the collection\n",
    "        URL = f'https://data.urbansharing.com/edinburghcyclehire.com/trips/v1/{y}/{m}.csv'\n",
    "        print(URL)\n",
    "\n",
    "        # Easy on the server\n",
    "        time.sleep(2)\n",
    "        \n",
    "        try:\n",
    "            df = pd.read_csv(URL)\n",
    "            # If this dataset is empty\n",
    "            if len(df)>0:\n",
    "                df_bikes = df_bikes.append(df)\n",
    "        except HTTPError:\n",
    "            # If this dataset does not exist\n",
    "            continue\n",
    "            \n",
    "df_bikes.sort_values(by=['started_at', 'ended_at'], inplace=True)"
   ]
  },
  {
   "cell_type": "code",
   "execution_count": 31,
   "id": "f7b0b0f7-a39b-47e9-bbf2-e0e279f8cef9",
   "metadata": {},
   "outputs": [],
   "source": [
    "df_bikes.to_csv('Edinburgh/bike_trips/df_bike_trips.csv')"
   ]
  }
 ],
 "metadata": {
  "kernelspec": {
   "display_name": "Python 3",
   "language": "python",
   "name": "python3"
  },
  "language_info": {
   "codemirror_mode": {
    "name": "ipython",
    "version": 3
   },
   "file_extension": ".py",
   "mimetype": "text/x-python",
   "name": "python",
   "nbconvert_exporter": "python",
   "pygments_lexer": "ipython3",
   "version": "3.7.10"
  }
 },
 "nbformat": 4,
 "nbformat_minor": 5
}
