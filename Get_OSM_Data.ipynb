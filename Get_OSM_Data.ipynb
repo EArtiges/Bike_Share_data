{
 "cells": [
  {
   "cell_type": "markdown",
   "id": "27575222-1ea6-479e-a998-c1322caab710",
   "metadata": {},
   "source": [
    "# Get OpenStreetMap Data\n",
    "\n",
    "For this, we use the OSMPythonTools package as recommended by the OSM wiki. It allows us to access the Overpass API (a read-only API, perfect for what we are set to do), the OSM API, and the Nominatim access point. More info here: https://wiki.openstreetmap.org/wiki/OSMPythonTools"
   ]
  },
  {
   "cell_type": "markdown",
   "id": "d00a5799-eff7-478b-a0b8-f920db619e85",
   "metadata": {},
   "source": [
    "#### Which object does the way with the id 5887599 represent?"
   ]
  },
  {
   "cell_type": "code",
   "execution_count": 3,
   "id": "395aaec1-76a7-4032-b76a-532c5a21af99",
   "metadata": {},
   "outputs": [],
   "source": [
    "from OSMPythonTools.api import Api\n",
    "api = Api()\n",
    "way = api.query('way/5887599')"
   ]
  },
  {
   "cell_type": "markdown",
   "id": "e0b8b138-93f5-4575-9763-59226eebde8b",
   "metadata": {},
   "source": [
    "#### How many trees are in the OSM data of Vienna? And how many trees have there been in 2013?"
   ]
  },
  {
   "cell_type": "code",
   "execution_count": 7,
   "id": "24cdd154-2fe2-4f26-ada8-bb1eed8c281b",
   "metadata": {},
   "outputs": [
    {
     "name": "stdout",
     "output_type": "stream",
     "text": [
      "Vienna Id: 3600109166\n"
     ]
    }
   ],
   "source": [
    "# Find the id for the area Vienna\n",
    "from OSMPythonTools.nominatim import Nominatim\n",
    "nominatim = Nominatim()\n",
    "areaId = nominatim.query('Vienna, Austria').areaId()\n",
    "print('Vienna Id:', areaId)"
   ]
  },
  {
   "cell_type": "code",
   "execution_count": 9,
   "id": "c45a392d-0b56-42c4-ba2b-4b742c0ada63",
   "metadata": {},
   "outputs": [
    {
     "name": "stdout",
     "output_type": "stream",
     "text": [
      "there are 143275 trees in Vienna\n"
     ]
    }
   ],
   "source": [
    "# query the Overpass API for the numbe of trees in Vienna using the id we just retrieved.\n",
    "from OSMPythonTools.overpass import overpassQueryBuilder, Overpass\n",
    "overpass = Overpass()\n",
    "query = overpassQueryBuilder(area=areaId, elementType='node', selector='\"natural\"=\"tree\"', out='count')\n",
    "result = overpass.query(query)\n",
    "print('there are', result.countElements(), 'trees in Vienna')"
   ]
  },
  {
   "cell_type": "code",
   "execution_count": 10,
   "id": "0611dd90-1671-446b-877d-5bbe05cd2ada",
   "metadata": {},
   "outputs": [
    {
     "name": "stderr",
     "output_type": "stream",
     "text": [
      "[overpass] downloading data: [timeout:60][date:\"2013-01-01T00:00:00Z\"][out:json];area(3600109166)->.searchArea;(node[\"natural\"=\"tree\"](area.searchArea);); out count;\n"
     ]
    },
    {
     "name": "stdout",
     "output_type": "stream",
     "text": [
      "there were 127690 trees in Vienna in 2013\n"
     ]
    }
   ],
   "source": [
    "# How many were there in 2013 ?\n",
    "result = overpass.query(query, date='2013-01-01T00:00:00Z', timeout=60)\n",
    "print('there were', result.countElements(), 'trees in Vienna in 2013')"
   ]
  },
  {
   "cell_type": "markdown",
   "id": "2ccfeea6-7792-4f5e-9c3c-99dea86bfef1",
   "metadata": {},
   "source": [
    "#### How did the number of trees changed in Vienna, Paris and Berlin changed since 2013? "
   ]
  },
  {
   "cell_type": "code",
   "execution_count": 11,
   "id": "c17e8d68-1197-41e7-9c58-85120b43d6af",
   "metadata": {},
   "outputs": [],
   "source": [
    "from collections import OrderedDict\n",
    "from OSMPythonTools.data import Data, dictRangeYears, ALL\n",
    "from OSMPythonTools.overpass import overpassQueryBuilder, Overpass\n",
    "\n",
    "# The question has two \"dimensions\": the dimension of time, and the dimension of different cities: \n",
    "dimensions = OrderedDict([\n",
    "    ('year', dictRangeYears(2013, 2017.5, 1)),\n",
    "    ('city', OrderedDict({\n",
    "        'berlin': 'Berlin, Germany',\n",
    "        'paris': 'Paris, France',\n",
    "        'vienna': 'Vienna, Austria',\n",
    "    })),\n",
    "])"
   ]
  },
  {
   "cell_type": "code",
   "execution_count": null,
   "id": "b0ec9747-294c-4724-b423-314fb44479c8",
   "metadata": {},
   "outputs": [
    {
     "name": "stderr",
     "output_type": "stream",
     "text": [
      "[nominatim] downloading data: search\n",
      "[overpass] downloading data: [timeout:60][date:\"2013-01-01T00:00:00Z\"][out:json];area(3600062422)->.searchArea;(node[\"natural\"=\"tree\"](area.searchArea);); out count;\n",
      "[nominatim] downloading data: search\n",
      "[overpass] downloading data: [timeout:60][date:\"2013-01-01T00:00:00Z\"][out:json];area(3600007444)->.searchArea;(node[\"natural\"=\"tree\"](area.searchArea);); out count;\n"
     ]
    }
   ],
   "source": [
    "overpass = Overpass()\n",
    "def fetch(year, city):\n",
    "    areaId = nominatim.query(city).areaId()\n",
    "    query = overpassQueryBuilder(area=areaId, elementType='node', selector='\"natural\"=\"tree\"', out='count')\n",
    "    return overpass.query(query, date=year, timeout=60).countElements()\n",
    "data = Data(fetch, dimensions)"
   ]
  },
  {
   "cell_type": "code",
   "execution_count": null,
   "id": "8a959bd2-6078-4f9b-ac4b-ec2848b6c37d",
   "metadata": {},
   "outputs": [],
   "source": [
    "# Plot it in a .jpg picture\n",
    "data.plot(city=ALL, filename='example.png')"
   ]
  },
  {
   "cell_type": "code",
   "execution_count": null,
   "id": "226d0816-a252-4f66-9db9-23c440b4a40e",
   "metadata": {},
   "outputs": [],
   "source": [
    "# Or get it as a .csv\n",
    "data.select(city=ALL).getCSV()"
   ]
  },
  {
   "cell_type": "code",
   "execution_count": null,
   "id": "39907f75-850f-456e-8968-93464969e837",
   "metadata": {},
   "outputs": [],
   "source": []
  }
 ],
 "metadata": {
  "kernelspec": {
   "display_name": "Python 3",
   "language": "python",
   "name": "python3"
  },
  "language_info": {
   "codemirror_mode": {
    "name": "ipython",
    "version": 3
   },
   "file_extension": ".py",
   "mimetype": "text/x-python",
   "name": "python",
   "nbconvert_exporter": "python",
   "pygments_lexer": "ipython3",
   "version": "3.9.4"
  }
 },
 "nbformat": 4,
 "nbformat_minor": 5
}
